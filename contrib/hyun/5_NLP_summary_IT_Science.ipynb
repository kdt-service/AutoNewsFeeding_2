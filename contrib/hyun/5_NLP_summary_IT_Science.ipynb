{
 "cells": [
  {
   "cell_type": "code",
   "execution_count": 2,
   "id": "e8001d0d",
   "metadata": {},
   "outputs": [],
   "source": [
    "import pandas as pd"
   ]
  },
  {
   "cell_type": "markdown",
   "id": "e4fc9d59",
   "metadata": {},
   "source": [
    "## Load data"
   ]
  },
  {
   "cell_type": "code",
   "execution_count": 3,
   "id": "5c2e1eb1",
   "metadata": {},
   "outputs": [],
   "source": [
    "df1 = pd.read_csv('../data/IT.csv', encoding='utf-8-sig')\n",
    "df2 = pd.read_csv('../data/IT, 과학.csv', encoding='utf-8-sig')\n",
    "df = pd.concat([df1, df2], axis=0)"
   ]
  },
  {
   "cell_type": "code",
   "execution_count": 4,
   "id": "08a2930b",
   "metadata": {},
   "outputs": [
    {
     "data": {
      "text/html": [
       "<div>\n",
       "<style scoped>\n",
       "    .dataframe tbody tr th:only-of-type {\n",
       "        vertical-align: middle;\n",
       "    }\n",
       "\n",
       "    .dataframe tbody tr th {\n",
       "        vertical-align: top;\n",
       "    }\n",
       "\n",
       "    .dataframe thead th {\n",
       "        text-align: right;\n",
       "    }\n",
       "</style>\n",
       "<table border=\"1\" class=\"dataframe\">\n",
       "  <thead>\n",
       "    <tr style=\"text-align: right;\">\n",
       "      <th></th>\n",
       "      <th>news_id</th>\n",
       "      <th>title</th>\n",
       "      <th>writer</th>\n",
       "      <th>content</th>\n",
       "      <th>writed_at</th>\n",
       "      <th>url</th>\n",
       "      <th>main_category</th>\n",
       "      <th>sub_category</th>\n",
       "      <th>platform</th>\n",
       "    </tr>\n",
       "  </thead>\n",
       "  <tbody>\n",
       "    <tr>\n",
       "      <th>0</th>\n",
       "      <td>594683</td>\n",
       "      <td>벤츠 “미래 비전 담은 12종 신차 내놓을 것”…첫 포문 ‘더 뉴 EQS SUV’ 출시</td>\n",
       "      <td>김동진</td>\n",
       "      <td>한국 진출 20주년을 맞이하는 메르세데스-벤츠코리아가 '럭셔리와 전동화, 지속 가...</td>\n",
       "      <td>2023-02-01 19:06:00</td>\n",
       "      <td>https://v.daum.net/v/20230201190606054</td>\n",
       "      <td>IT</td>\n",
       "      <td>IT기기</td>\n",
       "      <td>다음</td>\n",
       "    </tr>\n",
       "    <tr>\n",
       "      <th>1</th>\n",
       "      <td>594684</td>\n",
       "      <td>새 레이아웃·기능 갖춘 안드로이드 오토 '쿨워크', 직접 써보니</td>\n",
       "      <td>남시현</td>\n",
       "      <td>어느 날 안드로이드 오토를 연결했는데 권한을 다시 요구한다면 쿨워크 업데이트가 반영...</td>\n",
       "      <td>2023-02-01 15:42:00</td>\n",
       "      <td>https://v.daum.net/v/20230201154217912</td>\n",
       "      <td>IT</td>\n",
       "      <td>IT기기</td>\n",
       "      <td>다음</td>\n",
       "    </tr>\n",
       "    <tr>\n",
       "      <th>2</th>\n",
       "      <td>594685</td>\n",
       "      <td>[스케일업] 엘핀 [3] 학교·기업·근로자 출결관리의 모든 것 ‘아임히어·아임히어워크’</td>\n",
       "      <td>차주경</td>\n",
       "      <td>[스케일업 x SBA] 스케일업팀이 서울산업진흥원(SBA)과 함께 '2022년 하반...</td>\n",
       "      <td>2023-02-01 15:15:00</td>\n",
       "      <td>https://v.daum.net/v/20230201151503830</td>\n",
       "      <td>IT</td>\n",
       "      <td>IT기기</td>\n",
       "      <td>다음</td>\n",
       "    </tr>\n",
       "    <tr>\n",
       "      <th>3</th>\n",
       "      <td>594686</td>\n",
       "      <td>엔엑스플러스, 신작 무협 방치RPG '요도봉인기' 출시</td>\n",
       "      <td>최병준</td>\n",
       "      <td>엔엑스플러스(대표 최재헌)는 로우핸드(대표 조민혁)가 개발한 동양 무협 방치 RPG...</td>\n",
       "      <td>2023-02-01 14:42:00</td>\n",
       "      <td>https://v.daum.net/v/20230201144247413</td>\n",
       "      <td>IT</td>\n",
       "      <td>IT기기</td>\n",
       "      <td>다음</td>\n",
       "    </tr>\n",
       "    <tr>\n",
       "      <th>4</th>\n",
       "      <td>594687</td>\n",
       "      <td>대동, 로봇사업 진출… KIRO와 개발 협력</td>\n",
       "      <td>신영빈</td>\n",
       "      <td>농기계 기업 대동은 한국로봇융합연구원과(KIRO)와 손잡고 로봇 사업 진출을 위한 ...</td>\n",
       "      <td>2023-02-01 14:34:00</td>\n",
       "      <td>https://v.daum.net/v/20230201143449017</td>\n",
       "      <td>IT</td>\n",
       "      <td>IT기기</td>\n",
       "      <td>다음</td>\n",
       "    </tr>\n",
       "  </tbody>\n",
       "</table>\n",
       "</div>"
      ],
      "text/plain": [
       "   news_id                                             title writer  \\\n",
       "0   594683  벤츠 “미래 비전 담은 12종 신차 내놓을 것”…첫 포문 ‘더 뉴 EQS SUV’ 출시    김동진   \n",
       "1   594684               새 레이아웃·기능 갖춘 안드로이드 오토 '쿨워크', 직접 써보니    남시현   \n",
       "2   594685  [스케일업] 엘핀 [3] 학교·기업·근로자 출결관리의 모든 것 ‘아임히어·아임히어워크’    차주경   \n",
       "3   594686                    엔엑스플러스, 신작 무협 방치RPG '요도봉인기' 출시    최병준   \n",
       "4   594687                          대동, 로봇사업 진출… KIRO와 개발 협력    신영빈   \n",
       "\n",
       "                                             content            writed_at  \\\n",
       "0   한국 진출 20주년을 맞이하는 메르세데스-벤츠코리아가 '럭셔리와 전동화, 지속 가...  2023-02-01 19:06:00   \n",
       "1  어느 날 안드로이드 오토를 연결했는데 권한을 다시 요구한다면 쿨워크 업데이트가 반영...  2023-02-01 15:42:00   \n",
       "2  [스케일업 x SBA] 스케일업팀이 서울산업진흥원(SBA)과 함께 '2022년 하반...  2023-02-01 15:15:00   \n",
       "3  엔엑스플러스(대표 최재헌)는 로우핸드(대표 조민혁)가 개발한 동양 무협 방치 RPG...  2023-02-01 14:42:00   \n",
       "4  농기계 기업 대동은 한국로봇융합연구원과(KIRO)와 손잡고 로봇 사업 진출을 위한 ...  2023-02-01 14:34:00   \n",
       "\n",
       "                                      url main_category sub_category platform  \n",
       "0  https://v.daum.net/v/20230201190606054            IT         IT기기       다음  \n",
       "1  https://v.daum.net/v/20230201154217912            IT         IT기기       다음  \n",
       "2  https://v.daum.net/v/20230201151503830            IT         IT기기       다음  \n",
       "3  https://v.daum.net/v/20230201144247413            IT         IT기기       다음  \n",
       "4  https://v.daum.net/v/20230201143449017            IT         IT기기       다음  "
      ]
     },
     "execution_count": 4,
     "metadata": {},
     "output_type": "execute_result"
    }
   ],
   "source": [
    "df.head()"
   ]
  },
  {
   "cell_type": "code",
   "execution_count": 5,
   "id": "df26f479",
   "metadata": {},
   "outputs": [],
   "source": [
    "df['writed_at'] = df['writed_at'].apply(lambda x: pd.to_datetime(x))"
   ]
  },
  {
   "cell_type": "markdown",
   "id": "1dfc80f8",
   "metadata": {},
   "source": [
    "## Preprocessing"
   ]
  },
  {
   "cell_type": "code",
   "execution_count": 250,
   "id": "f7d014b9",
   "metadata": {},
   "outputs": [],
   "source": [
    "df1 = pd.read_csv('../data/IT.csv', encoding='utf-8-sig')\n",
    "df2 = pd.read_csv('../data/IT, 과학.csv', encoding='utf-8-sig')\n",
    "df = pd.concat([df1, df2], axis=0)"
   ]
  },
  {
   "cell_type": "code",
   "execution_count": 251,
   "id": "0464e87b",
   "metadata": {},
   "outputs": [],
   "source": [
    "# content 결측치 데이터 삭제\n",
    "df.dropna(subset=['content'], axis=0, inplace=True)\n",
    "\n",
    "# content 특정 글자수 이하 삭제\n",
    "df['len'] = df['content'].apply(lambda x: len(x))\n",
    "df = df[df['len'] > 119]\n",
    "df.drop(columns='len', axis=1, inplace=True)\n",
    "\n",
    "df.reset_index(drop=True, inplace=True)"
   ]
  },
  {
   "cell_type": "code",
   "execution_count": 252,
   "id": "9924ed49",
   "metadata": {},
   "outputs": [],
   "source": [
    "def text_cleaning(text):\n",
    "    \n",
    "    pattern = '▲'\n",
    "    text = re.sub(pattern, ' ', text)\n",
    "    \n",
    "    pattern = '\\[*\\(*\\w+ ?= ?\\w+\\)*\\]* ?\\w+ ?\\w+ \\= '\n",
    "    text = re.sub(pattern, '', text)\n",
    "    \n",
    "    # 출처=이미지투데이, 사진=이미지투데이, 사진제공=이미지투데이\n",
    "    pattern = r'(출처|사진(제공)?)=[a-zA-Z가-힣0-9]*'\n",
    "    text = re.sub(pattern, ' ', text)\n",
    "\n",
    "    # 글 / IT동아 김동진 () 사용자 중심의 IT 저널 - IT동아 ()\n",
    "    pattern = '글 / .*'\n",
    "    text = re.sub(pattern, ' ', text)\n",
    "\n",
    "    pattern = '\\<.*무단전재 및 재배포 금지.*\\>'\n",
    "    text = re.sub(pattern, ' ', text)\n",
    "\n",
    "    pattern = '.*\\[.*자료사진.*\\]'\n",
    "    text = re.sub(pattern, ' ', text)\n",
    "\n",
    "    # 토스플레이스 결제 사진 [토스플레이스 제공. 재판매 및 DB 금지]\n",
    "    pattern = '.*\\[.* 재판매 및 DB ?금지\\.*\\]'\n",
    "    text = re.sub(pattern, ' ', text)\n",
    "\n",
    "    # 도메인네임서버(DNS) -> 도메인네임서버 DNS\n",
    "    pattern = r'\\((\\w+)\\)'\n",
    "    text = re.sub(pattern, r' \\1', text)\n",
    "\n",
    "    # (헤럴드경제 =박영훈 기자)\n",
    "    pattern = '\\(*\\[*[\\w]+ ?= ?[\\w]+ ?기자\\]*\\)*'\n",
    "    re.sub(pattern, '', s)\n",
    "\n",
    "    pattern = '해외투자 \\'한경 글로벌마켓\\'과 함께하세요 한국경제신문과 WSJ, 모바일한경으로 보세요'\n",
    "    text = re.sub(pattern, '', text)\n",
    "\n",
    "    pattern = '제보는 카톡 okjebo'\n",
    "    text = re.sub(pattern, '', text)\n",
    "    \n",
    "    pattern = '\\[서울경제\\]'\n",
    "    text = re.sub(pattern, '', text)\n",
    "    \n",
    "    pattern = '\\n'\n",
    "    text = re.sub(pattern, ' ', text)\n",
    "    \n",
    "    pattern = ' {2,}'\n",
    "    text = re.sub(pattern, ' ', text)\n",
    "    \n",
    "    text = text.strip()\n",
    "    \n",
    "    return text"
   ]
  },
  {
   "cell_type": "code",
   "execution_count": 253,
   "id": "7f0ee5a0",
   "metadata": {},
   "outputs": [],
   "source": [
    "df['content'] = df['content'].apply(lambda x: text_cleaning(x))"
   ]
  },
  {
   "cell_type": "code",
   "execution_count": 254,
   "id": "52d955b1",
   "metadata": {},
   "outputs": [
    {
     "data": {
      "text/plain": [
       "0        한국 진출 20주년을 맞이하는 메르세데스-벤츠코리아가 '럭셔리와 전동화, 지속 가능...\n",
       "1        어느 날 안드로이드 오토를 연결했는데 권한을 다시 요구한다면 쿨워크 업데이트가 반영...\n",
       "2        [스케일업 x SBA] 스케일업팀이 서울산업진흥원 SBA과 함께 '2022년 하반기...\n",
       "3        엔엑스플러스(대표 최재헌)는 로우핸드(대표 조민혁)가 개발한 동양 무협 방치 RPG...\n",
       "4        농기계 기업 대동은 한국로봇융합연구원과 KIRO와 손잡고 로봇 사업 진출을 위한 핵...\n",
       "                               ...                        \n",
       "99467    ,넷기어가 15일(미국 현지시간) 와이파이7() 기반 고성능 유무선공유기 '나이트호...\n",
       "99468    ,애플의 주요 공급사인 폭스콘은 지난달 가전 등 전자제품 수요 둔화로 전년대비 매출...\n",
       "99469    ,위변조방지 기술을 활용한 한국조폐공사의 브랜드 보호 사업이 확대되고 있다. ,16...\n",
       "99470    , ,CCTV 등 보안 인프라 설치가 확대되면서 집이나 가게 같은 곳들을 침입해 현...\n",
       "99471    ,미국 실리콘밸리은행 SVB이 36시간 만에 초고속 파산한 배경으로 스마트폰을 통한...\n",
       "Name: content, Length: 99472, dtype: object"
      ]
     },
     "execution_count": 254,
     "metadata": {},
     "output_type": "execute_result"
    }
   ],
   "source": [
    "df['content']"
   ]
  }
 ],
 "metadata": {
  "kernelspec": {
   "display_name": "Python 3 (ipykernel)",
   "language": "python",
   "name": "python3"
  },
  "language_info": {
   "codemirror_mode": {
    "name": "ipython",
    "version": 3
   },
   "file_extension": ".py",
   "mimetype": "text/x-python",
   "name": "python",
   "nbconvert_exporter": "python",
   "pygments_lexer": "ipython3",
   "version": "3.10.9"
  },
  "toc": {
   "base_numbering": 1,
   "nav_menu": {},
   "number_sections": true,
   "sideBar": true,
   "skip_h1_title": false,
   "title_cell": "Table of Contents",
   "title_sidebar": "Contents",
   "toc_cell": false,
   "toc_position": {},
   "toc_section_display": true,
   "toc_window_display": false
  }
 },
 "nbformat": 4,
 "nbformat_minor": 5
}
