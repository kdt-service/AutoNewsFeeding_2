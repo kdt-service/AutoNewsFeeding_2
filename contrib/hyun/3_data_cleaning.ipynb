{
 "cells": [
  {
   "cell_type": "code",
   "execution_count": 1,
   "id": "53d7e3aa",
   "metadata": {},
   "outputs": [],
   "source": [
    "import pandas as pd"
   ]
  },
  {
   "cell_type": "markdown",
   "id": "ac03bf67",
   "metadata": {},
   "source": [
    "### writed_at"
   ]
  },
  {
   "cell_type": "code",
   "execution_count": null,
   "id": "ee932295",
   "metadata": {},
   "outputs": [],
   "source": [
    "news_df['writed_at'] = news_df['writed_at'].str.replace('오후', 'PM')\n",
    "news_df['writed_at'] = news_df['writed_at'].str.replace('오전', 'AM')\n",
    "news_df['writed_at'] = pd.to_datetime(news_df['writed_at'], format='%Y.%m.%d. %p %I:%M')\n",
    "news_df['writed_at'] = news_df['writed_at'].apply(lambda x : x.strftime('%Y-%m-%d %H:%M:%S'))\n",
    "\n",
    "news_df = news_df.sort_values(by='writed_at').reset_index(drop=True)"
   ]
  },
  {
   "cell_type": "markdown",
   "id": "6d5963a7",
   "metadata": {},
   "source": [
    "### platform"
   ]
  },
  {
   "cell_type": "code",
   "execution_count": 71,
   "id": "0e2a7fea",
   "metadata": {},
   "outputs": [],
   "source": [
    "df['platform'] = '네이버'"
   ]
  },
  {
   "cell_type": "markdown",
   "id": "5edec024",
   "metadata": {},
   "source": [
    "### writer"
   ]
  },
  {
   "cell_type": "code",
   "execution_count": null,
   "id": "df6b7599",
   "metadata": {},
   "outputs": [],
   "source": [
    "regex_email01 = '\\b[\\w.-]+@[\\w.-]+.[\\w.]+\\b'\n",
    "regex_email02 = '(\\b[\\w.-]+@[\\w.-]+.[\\w.]+\\b)'  \n",
    "# news_df['writer'] = news_df['writer'].apply(lambda x: re.sub(regex_email01|regex_email02, '', x))\n",
    "# re.sub(r'\\b[\\w.-]+@[\\w.-]+\\.[\\w.]+\\b', '', text)\n",
    "# 수정 예정"
   ]
  },
  {
   "cell_type": "markdown",
   "id": "58dcb388",
   "metadata": {},
   "source": [
    "### url"
   ]
  },
  {
   "cell_type": "code",
   "execution_count": null,
   "id": "698b14dd",
   "metadata": {},
   "outputs": [],
   "source": [
    "if 'url' not in news_df.columns:\n",
    "    df['url'] = \"\""
   ]
  },
  {
   "cell_type": "markdown",
   "id": "b8e21cc4",
   "metadata": {},
   "source": [
    "### content"
   ]
  },
  {
   "cell_type": "code",
   "execution_count": null,
   "id": "fab79176",
   "metadata": {},
   "outputs": [],
   "source": [
    "def clean_text(text):\n",
    "    # 이메일\n",
    "    pattern = '\\w+\\@\\w+\\.\\w+(?:\\.\\w{2})?'\n",
    "    text = re.sub(pattern, '', text)\n",
    "    \n",
    "    # (서울=뉴스1) 성재준 바이오전문기자 = 삭제\n",
    "    pattern = '\\(\\w+\\=\\w+\\) \\w+ \\w+ \\= '\n",
    "    text = re.sub(pattern, '', text)\n",
    "    \n",
    "    pattern = '\\(.*.*\\) .*기자'\n",
    "    text = re.sub(pattern, '', text)\n",
    "    \n",
    "    pattern = '\\(.*=.*\\) ?='\n",
    "    text = re.sub(pattern, '', text)\n",
    "    \n",
    "    # 특수기호 삭제\n",
    "    pattern = '◆*△*'\n",
    "    text = re.sub(pattern, '', text)\n",
    "    \n",
    "    # 이미지 설명 처리\n",
    "    pattern = '.*\\[.*자료사진.*\\]'\n",
    "    text = re.sub(pattern, '', text)    \n",
    "    \n",
    "    pattern = '.*\\[.* 재판매 및 DB ?금지\\.*\\]'\n",
    "    text = re.sub(pattern, '', text)\n",
    "    \n",
    "    pattern = '\\w+\\[.+제공\\]'\n",
    "    text = re.sub(pattern, '', text)\n",
    "    \n",
    "    pattern = '\\[.*출처.*\\]'\n",
    "    text = re.sub(pattern, '', text)\n",
    "    \n",
    "    # 대괄호 삭제\n",
    "    # pattern = '\\[.*\\]'\n",
    "    # text = re.sub(pattern, '', text)\n",
    "    \n",
    "    # 연속 줄바꿈 기호 대체\n",
    "    pattern = '\\n+\\n'\n",
    "    re.sub(pattern, '\\n', text)\n",
    "    \n",
    "    # \\t 대체\n",
    "    pattern = '\\t'\n",
    "    re.sub(pattern, ' ', text)\n",
    "    \n",
    "    # 공백 삭제\n",
    "    pattern = '\\s{3}'\n",
    "    text = re.sub(pattern, '', text)\n",
    "    \n",
    "    # \\r\n",
    "    \n",
    "    return text"
   ]
  },
  {
   "cell_type": "code",
   "execution_count": 277,
   "id": "7cfebdde",
   "metadata": {},
   "outputs": [],
   "source": [
    "df = pd.read_csv('../data/사회_식품의료.csv', usecols=list(range(0, 8)))"
   ]
  },
  {
   "cell_type": "code",
   "execution_count": 278,
   "id": "fd6acc1b",
   "metadata": {},
   "outputs": [
    {
     "data": {
      "text/plain": [
       "'\\n\\n질병통제센터 \"1월30일 하루 434명 병원내 사망\"\\n\\n\\n\\n中 발열진료소서 영정 사진 운반하는 유가족들[베이징 AP=연합뉴스 자료사진] 2022년 12월19일 중국 베이징의 한 발열 진료소 밖에서 영정 사진을 든 유족들이 시신을 운반하는 영구차 옆을 지나가고 있다.2022.12.19 ddy04002@yna.co.kr    (베이징=연합뉴스) 조준형 특파원 = 중국 질병예방통제센터(이하 센터)는 중국에서 코로나19에 감염된 뒤 병원에서 사망한 사람 수가 정점 때와 비교해 최근 약 90% 줄어들었다고 1일 밝혔다.    센터는 이날 홈페이지에 \\'전국 코로나19 감염 상황\\'이라는 제목으로 올린 최신 보고서에서 전국의 병원에서 나온 코로나19 감염 사망자가 1월 4일 하루 4천273명으로 정점을 찍은 뒤 지속 하락해 1월 30일 하루 434명을 기록했다고 발표했다. 이는 정점 대비 89.8% 감소한 수치다.     센터는 지난해 12월 25일 29.2%로 정점에 도달했던 PCR(유전자증폭) 검사 양성률이 점차 감소해 지난달 30일 2.5%로 집계됐다고 전했다.     이와 함께 지난달 30일 중국 본토내 발열 진료소에서 진료받은 사람 수는 16만4천 명으로 정점 대비 94.3% 줄어들었다고 센터는 소개했다.     같은 날 기준 입원 중인 환자(14만4천 명)는 정점 대비 91.1%, 중증환자(1만4천 명)는 정점 대비 89.3% 각각 감소했다고 센터는 전했다.      센터는 또 작년 12월 이후의 코로나19 변이 모니터링 결과 중국내에서 코로나19 우세종은 오미크론 계열인 BA.5.2.48(61.1%)과 BF.7.14(27.8%)인 것으로 파악됐으며, 새로운 변이는 아직 발견되지 않았다고 밝혔다.     jhcho@yna.co.kr\\n\\n'"
      ]
     },
     "execution_count": 278,
     "metadata": {},
     "output_type": "execute_result"
    }
   ],
   "source": [
    "df.loc[0, 'content']"
   ]
  }
 ],
 "metadata": {
  "kernelspec": {
   "display_name": "Python 3 (ipykernel)",
   "language": "python",
   "name": "python3"
  },
  "language_info": {
   "codemirror_mode": {
    "name": "ipython",
    "version": 3
   },
   "file_extension": ".py",
   "mimetype": "text/x-python",
   "name": "python",
   "nbconvert_exporter": "python",
   "pygments_lexer": "ipython3",
   "version": "3.10.9"
  },
  "toc": {
   "base_numbering": 1,
   "nav_menu": {},
   "number_sections": true,
   "sideBar": true,
   "skip_h1_title": false,
   "title_cell": "Table of Contents",
   "title_sidebar": "Contents",
   "toc_cell": false,
   "toc_position": {},
   "toc_section_display": true,
   "toc_window_display": false
  }
 },
 "nbformat": 4,
 "nbformat_minor": 5
}
