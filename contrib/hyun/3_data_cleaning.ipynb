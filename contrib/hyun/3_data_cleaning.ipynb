{
 "cells": [
  {
   "cell_type": "code",
   "execution_count": 1,
   "id": "6b6ba4ed",
   "metadata": {},
   "outputs": [],
   "source": [
    "import pandas as pd"
   ]
  },
  {
   "cell_type": "markdown",
   "id": "ebee6d3f",
   "metadata": {},
   "source": [
    "### writed_at"
   ]
  },
  {
   "cell_type": "code",
   "execution_count": null,
   "id": "1cc67bfc",
   "metadata": {},
   "outputs": [],
   "source": [
    "news_df['writed_at'] = news_df['writed_at'].str.replace('오후', 'PM')\n",
    "news_df['writed_at'] = news_df['writed_at'].str.replace('오전', 'AM')\n",
    "news_df['writed_at'] = pd.to_datetime(news_df['writed_at'], format='%Y.%m.%d. %p %I:%M')\n",
    "news_df['writed_at'] = news_df['writed_at'].apply(lambda x : x.strftime('%Y-%m-%d %H:%M:%S'))\n",
    "\n",
    "news_df = news_df.sort_values(by='writed_at').reset_index(drop=True)"
   ]
  },
  {
   "cell_type": "markdown",
   "id": "d571bb29",
   "metadata": {},
   "source": [
    "### platform"
   ]
  },
  {
   "cell_type": "code",
   "execution_count": 71,
   "id": "e8dcb8b4",
   "metadata": {},
   "outputs": [],
   "source": [
    "df['platform'] = '네이버'"
   ]
  },
  {
   "cell_type": "markdown",
   "id": "62d17e75",
   "metadata": {},
   "source": [
    "### writer"
   ]
  },
  {
   "cell_type": "code",
   "execution_count": null,
   "id": "92a1850e",
   "metadata": {},
   "outputs": [],
   "source": [
    "regex_email01 = '\\b[\\w.-]+@[\\w.-]+.[\\w.]+\\b'\n",
    "regex_email02 = '(\\b[\\w.-]+@[\\w.-]+.[\\w.]+\\b)'  \n",
    "# news_df['writer'] = news_df['writer'].apply(lambda x: re.sub(regex_email01|regex_email02, '', x))\n",
    "# re.sub(r'\\b[\\w.-]+@[\\w.-]+\\.[\\w.]+\\b', '', text)\n",
    "# 수정 예정"
   ]
  },
  {
   "cell_type": "markdown",
   "id": "e20c2fe7",
   "metadata": {},
   "source": [
    "### url"
   ]
  },
  {
   "cell_type": "code",
   "execution_count": null,
   "id": "3aff036d",
   "metadata": {},
   "outputs": [],
   "source": [
    "if 'url' not in news_df.columns:\n",
    "    df['url'] = \"\""
   ]
  },
  {
   "cell_type": "markdown",
   "id": "eac01f65",
   "metadata": {},
   "source": [
    "### content"
   ]
  },
  {
   "cell_type": "code",
   "execution_count": null,
   "id": "8cf1b9f4",
   "metadata": {},
   "outputs": [],
   "source": [
    "def clean_text(text):\n",
    "    # 이메일\n",
    "    pattern = '\\w+\\@\\w+\\.\\w+(?:\\.\\w{2})?'\n",
    "    text = re.sub(pattern, '', text)\n",
    "    \n",
    "    # (서울=뉴스1) 성재준 바이오전문기자 = 삭제\n",
    "    pattern = '\\(\\w+\\=\\w+\\) \\w+ \\w+ \\= '\n",
    "    text = re.sub(pattern, '', text)\n",
    "    \n",
    "    pattern = '\\(.*.*\\) .*기자'\n",
    "    text = re.sub(pattern, '', text)\n",
    "    \n",
    "    pattern = '\\(.*=.*\\) ?='\n",
    "    text = re.sub(pattern, '', text)\n",
    "    \n",
    "    # 특수기호 삭제\n",
    "    pattern = '◆*△*'\n",
    "    text = re.sub(pattern, '', text)\n",
    "    \n",
    "    # 이미지 설명 처리\n",
    "    pattern = '.*\\[.*자료사진.*\\]'\n",
    "    text = re.sub(pattern, '', text)    \n",
    "    \n",
    "    pattern = '.*\\[.* 재판매 및 DB\\s*금지\\.*\\]'\n",
    "    text = re.sub(pattern, '', text)\n",
    "    \n",
    "    pattern = '\\w+\\[.+제공\\]'\n",
    "    text = re.sub(pattern, '', text)\n",
    "    \n",
    "    pattern = '\\[.*출처.*\\]'\n",
    "    text = re.sub(pattern, '', text)\n",
    "    \n",
    "    # 대괄호 삭제\n",
    "    pattern = '\\[.*\\]'\n",
    "    text = re.sub(pattern, '', text)\n",
    "    \n",
    "    # 연속 줄바꿈 기호 대체\n",
    "    pattern = '\\n+\\n'\n",
    "    re.sub(pattern, '\\n', text)\n",
    "    \n",
    "    # \\t 대체\n",
    "    pattern = '\\t'\n",
    "    re.sub(pattern, '', text)\n",
    "    \n",
    "    # 공백 삭제\n",
    "    pattern = '\\s{3}'\n",
    "    text = re.sub(pattern, '', text)\n",
    "    \n",
    "    return text"
   ]
  }
 ],
 "metadata": {
  "kernelspec": {
   "display_name": "Python 3 (ipykernel)",
   "language": "python",
   "name": "python3"
  },
  "language_info": {
   "codemirror_mode": {
    "name": "ipython",
    "version": 3
   },
   "file_extension": ".py",
   "mimetype": "text/x-python",
   "name": "python",
   "nbconvert_exporter": "python",
   "pygments_lexer": "ipython3",
   "version": "3.10.9"
  },
  "toc": {
   "base_numbering": 1,
   "nav_menu": {},
   "number_sections": true,
   "sideBar": true,
   "skip_h1_title": false,
   "title_cell": "Table of Contents",
   "title_sidebar": "Contents",
   "toc_cell": false,
   "toc_position": {},
   "toc_section_display": true,
   "toc_window_display": false
  }
 },
 "nbformat": 4,
 "nbformat_minor": 5
}
